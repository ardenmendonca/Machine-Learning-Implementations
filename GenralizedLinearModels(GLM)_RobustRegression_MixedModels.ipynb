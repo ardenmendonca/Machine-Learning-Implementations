{
 "cells": [
  {
   "cell_type": "markdown",
   "id": "0a874646",
   "metadata": {},
   "source": [
    "# Statistical Modeling Tasks"
   ]
  },
  {
   "cell_type": "markdown",
   "id": "3cc0db59",
   "metadata": {},
   "source": [
    "## 1. Generalized Linear Models (GLM)"
   ]
  },
  {
   "cell_type": "markdown",
   "id": "471b2827",
   "metadata": {},
   "source": [
    "Generalized Linear Models extend linear models to distributions other than the normal distribution, such as Poisson for count data."
   ]
  },
  {
   "cell_type": "markdown",
   "id": "e9fc000c",
   "metadata": {},
   "source": [
    "## 2. Robust Regression"
   ]
  },
  {
   "cell_type": "markdown",
   "id": "f72b25f7",
   "metadata": {},
   "source": [
    "Robust regression techniques like RANSAC and Theil-Sen are essential for handling outliers effectively."
   ]
  },
  {
   "cell_type": "markdown",
   "id": "eaed3aa4",
   "metadata": {},
   "source": [
    "## 3. Mixed Effects Models"
   ]
  },
  {
   "cell_type": "markdown",
   "id": "5417174f",
   "metadata": {},
   "source": [
    "Mixed Effects Models analyze data involving both fixed and random effects, suitable for complex, hierarchical data structures."
   ]
  },
  {
   "cell_type": "code",
   "execution_count": 1,
   "id": "4d92635b",
   "metadata": {},
   "outputs": [
    {
     "name": "stdout",
     "output_type": "stream",
     "text": [
      "GLM (Poisson Regression) Results:\n",
      "                 Generalized Linear Model Regression Results                  \n",
      "==============================================================================\n",
      "Dep. Variable:                    YES   No. Observations:                   32\n",
      "Model:                            GLM   Df Residuals:                       24\n",
      "Model Family:                 Poisson   Df Model:                            7\n",
      "Link Function:                    Log   Scale:                          1.0000\n",
      "Method:                          IRLS   Log-Likelihood:                -97.798\n",
      "Date:                Tue, 22 Oct 2024   Deviance:                       5.1846\n",
      "Time:                        01:48:04   Pearson chi2:                     5.14\n",
      "No. Iterations:                     4   Pseudo R-squ. (CS):             0.5729\n",
      "Covariance Type:            nonrobust                                         \n",
      "======================================================================================\n",
      "                         coef    std err          z      P>|z|      [0.025      0.975]\n",
      "--------------------------------------------------------------------------------------\n",
      "COUTAX                -0.0025      0.002     -1.183      0.237      -0.007       0.002\n",
      "UNEMPF                -0.1046      0.068     -1.545      0.122      -0.237       0.028\n",
      "MOR                    0.0045      0.004      1.285      0.199      -0.002       0.011\n",
      "ACT                   -0.0069      0.005     -1.255      0.210      -0.018       0.004\n",
      "GDP                 8.237e-06   1.58e-05      0.521      0.602   -2.27e-05    3.92e-05\n",
      "AGE                    0.0310      0.032      0.980      0.327      -0.031       0.093\n",
      "COUTAX_FEMALEUNEMP     0.0001   9.52e-05      1.286      0.198   -6.41e-05       0.000\n",
      "const                  5.7793      1.477      3.913      0.000       2.885       8.674\n",
      "======================================================================================\n"
     ]
    }
   ],
   "source": [
    "\n",
    "import statsmodels.api as sm\n",
    "from statsmodels.genmod.generalized_linear_model import GLM\n",
    "from statsmodels.genmod.families import Poisson\n",
    "\n",
    "# Load the scotland dataset (no need for 'as_pandas' argument)\n",
    "data_glm = sm.datasets.scotland.load()\n",
    "\n",
    "# Add constant to the exogenous variables (for the intercept term)\n",
    "data_glm.exog = sm.add_constant(data_glm.exog, prepend=False)\n",
    "\n",
    "# Fit the GLM Poisson regression model\n",
    "glm_poisson = GLM(data_glm.endog, data_glm.exog, family=Poisson())\n",
    "res_poisson = glm_poisson.fit()\n",
    "\n",
    "# Print the summary of the model\n",
    "print(\"GLM (Poisson Regression) Results:\")\n",
    "print(res_poisson.summary())\n"
   ]
  },
  {
   "cell_type": "code",
   "execution_count": 4,
   "id": "5402bbb8",
   "metadata": {},
   "outputs": [
    {
     "data": {
      "image/png": "[encoded data removed]",
      "text/plain": [
       "<Figure size 720x360 with 1 Axes>"
      ]
     },
     "metadata": {
      "needs_background": "light"
     },
     "output_type": "display_data"
    }
   ],
   "source": [
    "\n",
    "import numpy as np\n",
    "import matplotlib.pyplot as plt\n",
    "from sklearn.linear_model import RANSACRegressor, TheilSenRegressor\n",
    "\n",
    "# Generating sample data with outliers\n",
    "np.random.seed(0)\n",
    "x = np.arange(100)\n",
    "y = 0.5 * x + np.random.normal(size=x.size)\n",
    "y[::10] += 20  # adding outliers\n",
    "\n",
    "# RANSAC Regression\n",
    "ransac = RANSACRegressor()\n",
    "ransac.fit(x.reshape(-1, 1), y)\n",
    "inlier_mask = ransac.inlier_mask_\n",
    "outlier_mask = np.logical_not(inlier_mask)\n",
    "\n",
    "# Theil-Sen Estimator\n",
    "theilsen = TheilSenRegressor()\n",
    "theilsen.fit(x.reshape(-1, 1), y)\n",
    "\n",
    "# Plotting results\n",
    "plt.figure(figsize=(10, 5))\n",
    "plt.scatter(x[inlier_mask], y[inlier_mask], color='yellowgreen', marker='.', label='Inliers')\n",
    "plt.scatter(x[outlier_mask], y[outlier_mask], color='gold', marker='.', label='Outliers')\n",
    "plt.plot(x, ransac.predict(x.reshape(-1, 1)), color='cornflowerblue', label='RANSAC predictor')\n",
    "plt.plot(x, theilsen.predict(x.reshape(-1, 1)), color='red', linestyle='-', label='Theil-Sen predictor')\n",
    "plt.legend()\n",
    "plt.show()\n",
    "    "
   ]
  },
  {
   "cell_type": "code",
   "execution_count": 5,
   "id": "f027d84c",
   "metadata": {},
   "outputs": [
    {
     "name": "stdout",
     "output_type": "stream",
     "text": [
      "GLM (Poisson Regression) Results:\n",
      "                 Generalized Linear Model Regression Results                  \n",
      "==============================================================================\n",
      "Dep. Variable:                    YES   No. Observations:                   32\n",
      "Model:                            GLM   Df Residuals:                       24\n",
      "Model Family:                 Poisson   Df Model:                            7\n",
      "Link Function:                    Log   Scale:                          1.0000\n",
      "Method:                          IRLS   Log-Likelihood:                -97.798\n",
      "Date:                Tue, 22 Oct 2024   Deviance:                       5.1846\n",
      "Time:                        01:48:13   Pearson chi2:                     5.14\n",
      "No. Iterations:                     4   Pseudo R-squ. (CS):             0.5729\n",
      "Covariance Type:            nonrobust                                         \n",
      "======================================================================================\n",
      "                         coef    std err          z      P>|z|      [0.025      0.975]\n",
      "--------------------------------------------------------------------------------------\n",
      "COUTAX                -0.0025      0.002     -1.183      0.237      -0.007       0.002\n",
      "UNEMPF                -0.1046      0.068     -1.545      0.122      -0.237       0.028\n",
      "MOR                    0.0045      0.004      1.285      0.199      -0.002       0.011\n",
      "ACT                   -0.0069      0.005     -1.255      0.210      -0.018       0.004\n",
      "GDP                 8.237e-06   1.58e-05      0.521      0.602   -2.27e-05    3.92e-05\n",
      "AGE                    0.0310      0.032      0.980      0.327      -0.031       0.093\n",
      "COUTAX_FEMALEUNEMP     0.0001   9.52e-05      1.286      0.198   -6.41e-05       0.000\n",
      "const                  5.7793      1.477      3.913      0.000       2.885       8.674\n",
      "======================================================================================\n"
     ]
    }
   ],
   "source": [
    "\n",
    "import statsmodels.api as sm\n",
    "from statsmodels.genmod.generalized_linear_model import GLM\n",
    "from statsmodels.genmod.families import Poisson\n",
    "\n",
    "# Load the scotland dataset (no need for 'as_pandas' argument)\n",
    "data_glm = sm.datasets.scotland.load()\n",
    "\n",
    "# Add constant to the exogenous variables (for the intercept term)\n",
    "data_glm.exog = sm.add_constant(data_glm.exog, prepend=False)\n",
    "\n",
    "# Fit the GLM Poisson regression model\n",
    "glm_poisson = GLM(data_glm.endog, data_glm.exog, family=Poisson())\n",
    "res_poisson = glm_poisson.fit()\n",
    "\n",
    "# Print the summary of the model\n",
    "print(\"GLM (Poisson Regression) Results:\")\n",
    "print(res_poisson.summary())\n"
   ]
  }
 ],
 "metadata": {
  "kernelspec": {
   "display_name": "base",
   "language": "python",
   "name": "python3"
  },
  "language_info": {
   "codemirror_mode": {
    "name": "ipython",
    "version": 3
   },
   "file_extension": ".py",
   "mimetype": "text/x-python",
   "name": "python",
   "nbconvert_exporter": "python",
   "pygments_lexer": "ipython3",
   "version": "3.9.12"
  }
 },
 "nbformat": 4,
 "nbformat_minor": 5
}
