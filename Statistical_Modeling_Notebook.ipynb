{
 "cells": [
  {
   "cell_type": "markdown",
   "id": "c9d087cc",
   "metadata": {},
   "source": [
    "# Generalized Linear Models (GLM)\n",
    "\n",
    "## Task\n",
    "Fit and interpret several types of GLMs (e.g., Poisson regression for count data).\n",
    "\n",
    "## Objective\n",
    "Understand the extensions of linear models to distributions other than the normal distribution.\n",
    "\n",
    "## Implementation\n",
    "Here, we use a Poisson regression as an example to demonstrate GLM. We will simulate some data that follows a Poisson distribution and use GLM to model it.\n"
   ]
  },
  {
   "cell_type": "code",
   "execution_count": 1,
   "id": "999a20ee",
   "metadata": {},
   "outputs": [
    {
     "name": "stdout",
     "output_type": "stream",
     "text": [
      "                 Generalized Linear Model Regression Results                  \n",
      "==============================================================================\n",
      "Dep. Variable:                      y   No. Observations:                  100\n",
      "Model:                            GLM   Df Residuals:                       98\n",
      "Model Family:                 Poisson   Df Model:                            1\n",
      "Link Function:                    Log   Scale:                          1.0000\n",
      "Method:                          IRLS   Log-Likelihood:                -172.26\n",
      "Date:                Tue, 22 Oct 2024   Deviance:                       128.93\n",
      "Time:                        00:52:50   Pearson chi2:                     110.\n",
      "No. Iterations:                     4   Pseudo R-squ. (CS):           0.007226\n",
      "Covariance Type:            nonrobust                                         \n",
      "==============================================================================\n",
      "                 coef    std err          z      P>|z|      [0.025      0.975]\n",
      "------------------------------------------------------------------------------\n",
      "Intercept      0.6523      0.072      9.002      0.000       0.510       0.794\n",
      "x              0.0684      0.081      0.850      0.395      -0.089       0.226\n",
      "==============================================================================\n"
     ]
    }
   ],
   "source": [
    "\n",
    "import numpy as np\n",
    "import pandas as pd\n",
    "import statsmodels.api as sm\n",
    "import statsmodels.formula.api as smf\n",
    "\n",
    "# Generating synthetic data\n",
    "np.random.seed(42)\n",
    "data = pd.DataFrame({\n",
    "    'x': np.random.normal(size=100),\n",
    "    'y': np.random.poisson(lam=2, size=100)\n",
    "})\n",
    "\n",
    "# Fitting a Poisson regression model\n",
    "model = smf.glm('y ~ x', data=data, family=sm.families.Poisson()).fit()\n",
    "print(model.summary())\n"
   ]
  },
  {
   "cell_type": "markdown",
   "id": "1de6fdb5",
   "metadata": {},
   "source": [
    "## Robust Regression\n",
    "\n",
    "## Task\n",
    "Apply robust regression techniques to datasets with outliers.\n",
    "\n",
    "## Objective\n",
    "Learn methods like RANSAC and Theil-Sen estimators that are less sensitive to outliers.\n",
    "\n",
    "## Implementation\n",
    "We apply the RANSAC regression method to a dataset with artificially added outliers.\n"
   ]
  },
  {
   "cell_type": "code",
   "execution_count": 2,
   "id": "56552cb7",
   "metadata": {},
   "outputs": [
    {
     "data": {
      "image/png": "[encoded data removed]",
      "text/plain": [
       "<Figure size 432x288 with 1 Axes>"
      ]
     },
     "metadata": {
      "needs_background": "light"
     },
     "output_type": "display_data"
    }
   ],
   "source": [
    "\n",
    "from sklearn.linear_model import RANSACRegressor\n",
    "import matplotlib.pyplot as plt\n",
    "\n",
    "# Generating synthetic data with outliers\n",
    "np.random.seed(42)\n",
    "x = np.linspace(0, 10, 100)\n",
    "y = 0.5 * x + np.random.normal(size=x.size)\n",
    "y[::10] += 20 * np.random.normal(size=y[::10].size)\n",
    "\n",
    "# Applying RANSAC\n",
    "ransac = RANSACRegressor().fit(x.reshape(-1, 1), y)\n",
    "\n",
    "# Plotting\n",
    "plt.scatter(x, y, color='grey', marker='o', label='Data')\n",
    "plt.plot(x, ransac.predict(x.reshape(-1, 1)), color='red', label='RANSAC regressor')\n",
    "plt.legend()\n",
    "plt.show()\n"
   ]
  },
  {
   "cell_type": "markdown",
   "id": "255fc0a9",
   "metadata": {},
   "source": [
    "## Mixed Effects Models\n",
    "\n",
    "## Task\n",
    "Analyze data that includes both fixed and random effects using linear mixed models.\n",
    "\n",
    "## Objective\n",
    "Handle hierarchical or grouped data effectively, essential for complex data structures like nested datasets.\n",
    "\n",
    "## Implementation\n",
    "We analyze a dataset with fixed and random effects using a linear mixed model.\n"
   ]
  },
  {
   "cell_type": "code",
   "execution_count": 3,
   "id": "85957d93",
   "metadata": {},
   "outputs": [
    {
     "name": "stdout",
     "output_type": "stream",
     "text": [
      "              Mixed Linear Model Regression Results\n",
      "==================================================================\n",
      "Model:                 MixedLM    Dependent Variable:    Measure  \n",
      "No. Observations:      100        Method:                REML     \n",
      "No. Groups:            4          Scale:                 1.4001   \n",
      "Min. group size:       25         Log-Likelihood:        -164.7144\n",
      "Max. group size:       25         Converged:             Yes      \n",
      "Mean group size:       25.0                                       \n",
      "------------------------------------------------------------------\n",
      "                     Coef.    Std.Err.     z   P>|z| [0.025 0.975]\n",
      "------------------------------------------------------------------\n",
      "Intercept             1.713        0.805 2.126 0.033  0.134  3.292\n",
      "Group Var             2.938 25344855.164                          \n",
      "Group x Subgroup Cov -0.409 19008641.373                          \n",
      "Subgroup Var          0.057 12672427.582                          \n",
      "==================================================================\n",
      "\n"
     ]
    },
    {
     "name": "stderr",
     "output_type": "stream",
     "text": [
      "c:\\Users\\91771\\anaconda3\\lib\\site-packages\\statsmodels\\base\\model.py:604: ConvergenceWarning: Maximum Likelihood optimization failed to converge. Check mle_retvals\n",
      "  warnings.warn(\"Maximum Likelihood optimization failed to \"\n",
      "c:\\Users\\91771\\anaconda3\\lib\\site-packages\\statsmodels\\regression\\mixed_linear_model.py:2200: ConvergenceWarning: Retrying MixedLM optimization with lbfgs\n",
      "  warnings.warn(\n"
     ]
    }
   ],
   "source": [
    "\n",
    "import statsmodels.api as sm\n",
    "from statsmodels.regression.mixed_linear_model import MixedLM\n",
    "\n",
    "# Generating synthetic data\n",
    "group = np.repeat(np.arange(1, 5), 25)\n",
    "subgroup = np.tile(np.repeat([1, 2], 25), 2)[:100]\n",
    "measure = np.random.normal(0, 1, 100) + np.repeat([0, 1, 2, 3], 25)\n",
    "\n",
    "data = pd.DataFrame({'Group': group, 'Subgroup': subgroup, 'Measure': measure})\n",
    "\n",
    "# Defining and fitting a mixed effects model\n",
    "model = MixedLM.from_formula('Measure ~ 1', groups='Group', re_formula='~Subgroup', data=data)\n",
    "result = model.fit()\n",
    "print(result.summary())\n"
   ]
  }
 ],
 "metadata": {
  "kernelspec": {
   "display_name": "base",
   "language": "python",
   "name": "python3"
  },
  "language_info": {
   "codemirror_mode": {
    "name": "ipython",
    "version": 3
   },
   "file_extension": ".py",
   "mimetype": "text/x-python",
   "name": "python",
   "nbconvert_exporter": "python",
   "pygments_lexer": "ipython3",
   "version": "3.9.12"
  }
 },
 "nbformat": 4,
 "nbformat_minor": 5
}
