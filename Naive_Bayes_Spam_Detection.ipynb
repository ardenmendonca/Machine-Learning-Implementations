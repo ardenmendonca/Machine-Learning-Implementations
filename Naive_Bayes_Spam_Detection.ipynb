{
 "cells": [
  {
   "cell_type": "markdown",
   "id": "c8c69975",
   "metadata": {},
   "source": [
    "## Naive Bayes Spam Detection: Corrected Version"
   ]
  },
  {
   "cell_type": "markdown",
   "id": "5773d797",
   "metadata": {},
   "source": [
    "\n",
    "### Task: Spam Detection using Naive Bayes (Corrected)\n",
    "\n",
    "**Objective:** Build a Naive Bayes classifier to detect spam emails using the SMS Spam Collection dataset. The text data is converted into numeric format using TF-IDF, and the classifier is evaluated using precision, recall, and F1-score.\n",
    "\n",
    "**Steps:**\n",
    "1. Load and preprocess the SMS Spam Collection dataset.\n",
    "2. Convert the text data into numeric format using TF-IDF.\n",
    "3. Train the Naive Bayes classifier to distinguish between spam and non-spam messages.\n",
    "4. Evaluate the model's performance using standard classification metrics.\n",
    "    "
   ]
  },
  {
   "cell_type": "code",
   "execution_count": 1,
   "id": "a54fe168",
   "metadata": {},
   "outputs": [
    {
     "name": "stdout",
     "output_type": "stream",
     "text": [
      "Spam Detection Classification Report:\n",
      "              precision    recall  f1-score   support\n",
      "\n",
      "           0       0.97      1.00      0.98      1448\n",
      "           1       0.99      0.80      0.89       224\n",
      "\n",
      "    accuracy                           0.97      1672\n",
      "   macro avg       0.98      0.90      0.94      1672\n",
      "weighted avg       0.97      0.97      0.97      1672\n",
      "\n"
     ]
    }
   ],
   "source": [
    "\n",
    "# Import necessary libraries\n",
    "import pandas as pd\n",
    "import zipfile\n",
    "import requests\n",
    "from io import BytesIO\n",
    "from sklearn.feature_extraction.text import TfidfVectorizer\n",
    "from sklearn.model_selection import train_test_split\n",
    "from sklearn.naive_bayes import MultinomialNB\n",
    "from sklearn.metrics import classification_report\n",
    "\n",
    "# URL for the dataset\n",
    "url = 'https://archive.ics.uci.edu/ml/machine-learning-databases/00228/smsspamcollection.zip'\n",
    "\n",
    "# Download and extract the ZIP file\n",
    "response = requests.get(url)\n",
    "with zipfile.ZipFile(BytesIO(response.content)) as z:\n",
    "    # Extract the specific file 'SMSSpamCollection'\n",
    "    with z.open('SMSSpamCollection') as f:\n",
    "        df = pd.read_csv(f, sep='\t', header=None, names=['label', 'message'])\n",
    "\n",
    "# Encode labels (spam = 1, ham = 0)\n",
    "df['label'] = df['label'].map({'spam': 1, 'ham': 0})\n",
    "\n",
    "# Preprocess text data\n",
    "X_spam = df['message']\n",
    "y_spam = df['label']\n",
    "\n",
    "# Vectorization using TF-IDF\n",
    "tfidf_vectorizer_spam = TfidfVectorizer(stop_words='english')\n",
    "X_spam_tfidf = tfidf_vectorizer_spam.fit_transform(X_spam)\n",
    "\n",
    "# Train-test split\n",
    "X_train_spam, X_test_spam, y_train_spam, y_test_spam = train_test_split(X_spam_tfidf, y_spam, test_size=0.3, random_state=42)\n",
    "\n",
    "# Train Naive Bayes Classifier\n",
    "nb_classifier_spam = MultinomialNB()\n",
    "nb_classifier_spam.fit(X_train_spam, y_train_spam)\n",
    "\n",
    "# Predict and evaluate\n",
    "y_pred_spam = nb_classifier_spam.predict(X_test_spam)\n",
    "print(\"Spam Detection Classification Report:\")\n",
    "print(classification_report(y_test_spam, y_pred_spam))\n"
   ]
  }
 ],
 "metadata": {
  "kernelspec": {
   "display_name": "base",
   "language": "python",
   "name": "python3"
  },
  "language_info": {
   "codemirror_mode": {
    "name": "ipython",
    "version": 3
   },
   "file_extension": ".py",
   "mimetype": "text/x-python",
   "name": "python",
   "nbconvert_exporter": "python",
   "pygments_lexer": "ipython3",
   "version": "3.9.12"
  }
 },
 "nbformat": 4,
 "nbformat_minor": 5
}
