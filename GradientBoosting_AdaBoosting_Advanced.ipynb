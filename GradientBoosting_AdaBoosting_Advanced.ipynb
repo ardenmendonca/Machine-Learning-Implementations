{
 "cells": [
  {
   "cell_type": "markdown",
   "id": "8b266d78",
   "metadata": {},
   "source": [
    "##  Gradient Boosting and AdaBoosting Algorithms"
   ]
  },
  {
   "cell_type": "markdown",
   "id": "b506821b",
   "metadata": {},
   "source": [
    "\n",
    "### Gradient Boosting Implementation\n",
    "\n",
    "Gradient Boosting is a powerful technique where new models are trained to correct the errors of the previous models in an iterative fashion.\n",
    "\n",
    "In this task, we'll:\n",
    "1. Implement Gradient Boosting from scratch using NumPy.\n",
    "2. Use scikit-learn's GradientBoostingClassifier for comparison.\n",
    "3. Experiment with hyperparameters such as learning rate, number of estimators, and maximum depth to optimize the model's performance.\n",
    "    "
   ]
  },
  {
   "cell_type": "code",
   "execution_count": 1,
   "id": "7e938c13",
   "metadata": {},
   "outputs": [
    {
     "name": "stdout",
     "output_type": "stream",
     "text": [
      "Gradient Boosting Classifier Accuracy: 0.8833333333333333\n",
      "Learning Rate: 0.01, Accuracy: 0.8\n",
      "Learning Rate: 0.1, Accuracy: 0.8833333333333333\n",
      "Learning Rate: 0.2, Accuracy: 0.9066666666666666\n",
      "Learning Rate: 0.5, Accuracy: 0.8866666666666667\n"
     ]
    }
   ],
   "source": [
    "\n",
    "# Import libraries\n",
    "import numpy as np\n",
    "from sklearn.metrics import accuracy_score, mean_squared_error\n",
    "from sklearn.model_selection import train_test_split\n",
    "from sklearn.datasets import make_classification\n",
    "from sklearn.ensemble import GradientBoostingClassifier\n",
    "import matplotlib.pyplot as plt\n",
    "\n",
    "# Gradient Boosting from scratch for regression\n",
    "class GradientBoostingRegressorScratch:\n",
    "    def __init__(self, n_estimators=100, learning_rate=0.1, max_depth=3):\n",
    "        self.n_estimators = n_estimators\n",
    "        self.learning_rate = learning_rate\n",
    "        self.max_depth = max_depth\n",
    "        self.models = []\n",
    "        \n",
    "    def fit(self, X, y):\n",
    "        # Initial prediction is the mean of the target\n",
    "        self.initial_pred = np.mean(y)\n",
    "        residuals = y - self.initial_pred\n",
    "        \n",
    "        for _ in range(self.n_estimators):\n",
    "            model = DecisionTreeRegressor(max_depth=self.max_depth)\n",
    "            model.fit(X, residuals)\n",
    "            self.models.append(model)\n",
    "            residuals -= self.learning_rate * model.predict(X)\n",
    "    \n",
    "    def predict(self, X):\n",
    "        y_pred = np.full(X.shape[0], self.initial_pred)\n",
    "        for model in self.models:\n",
    "            y_pred += self.learning_rate * model.predict(X)\n",
    "        return y_pred\n",
    "\n",
    "# Generate synthetic data for regression\n",
    "X, y = make_classification(n_samples=1000, n_features=20, n_informative=15, random_state=42)\n",
    "X_train, X_test, y_train, y_test = train_test_split(X, y, test_size=0.3, random_state=42)\n",
    "\n",
    "# GradientBoostingClassifier using scikit-learn\n",
    "gb_model = GradientBoostingClassifier(n_estimators=100, learning_rate=0.1, max_depth=3, random_state=42)\n",
    "gb_model.fit(X_train, y_train)\n",
    "\n",
    "# Predict and evaluate\n",
    "y_pred = gb_model.predict(X_test)\n",
    "accuracy = accuracy_score(y_test, y_pred)\n",
    "print(f'Gradient Boosting Classifier Accuracy: {accuracy}')\n",
    "\n",
    "# Experiment with hyperparameters\n",
    "learning_rates = [0.01, 0.1, 0.2, 0.5]\n",
    "for lr in learning_rates:\n",
    "    gb_model = GradientBoostingClassifier(n_estimators=100, learning_rate=lr, max_depth=3, random_state=42)\n",
    "    gb_model.fit(X_train, y_train)\n",
    "    y_pred = gb_model.predict(X_test)\n",
    "    accuracy = accuracy_score(y_test, y_pred)\n",
    "    print(f'Learning Rate: {lr}, Accuracy: {accuracy}')\n"
   ]
  },
  {
   "cell_type": "markdown",
   "id": "f89a9724",
   "metadata": {},
   "source": [
    "\n",
    "### AdaBoost Implementation\n",
    "\n",
    "AdaBoost trains a series of weak learners (typically decision trees with only one split) and combines them into a strong classifier.\n",
    "\n",
    "In this task, we'll:\n",
    "1. Implement AdaBoost from scratch.\n",
    "2. Use scikit-learn's AdaBoostClassifier and compare results.\n",
    "3. Use different weak learners and evaluate their impact on boosting performance.\n",
    "    "
   ]
  },
  {
   "cell_type": "code",
   "execution_count": 2,
   "id": "be01c472",
   "metadata": {},
   "outputs": [
    {
     "name": "stdout",
     "output_type": "stream",
     "text": [
      "AdaBoost Classifier Accuracy: 0.8033333333333333\n",
      "Base Learner Depth: 1, Accuracy: 0.8033333333333333\n",
      "Base Learner Depth: 2, Accuracy: 0.8733333333333333\n",
      "Base Learner Depth: 3, Accuracy: 0.8466666666666667\n"
     ]
    }
   ],
   "source": [
    "\n",
    "# Import libraries\n",
    "from sklearn.ensemble import AdaBoostClassifier\n",
    "from sklearn.tree import DecisionTreeClassifier\n",
    "\n",
    "# AdaBoost from scratch\n",
    "class AdaBoostScratch:\n",
    "    def __init__(self, n_estimators=50):\n",
    "        self.n_estimators = n_estimators\n",
    "        self.models = []\n",
    "        self.alphas = []\n",
    "        \n",
    "    def fit(self, X, y):\n",
    "        n_samples, n_features = X.shape\n",
    "        w = np.full(n_samples, 1 / n_samples)\n",
    "        \n",
    "        for _ in range(self.n_estimators):\n",
    "            model = DecisionTreeClassifier(max_depth=1)\n",
    "            model.fit(X, y, sample_weight=w)\n",
    "            predictions = model.predict(X)\n",
    "            error = np.sum(w * (predictions != y)) / np.sum(w)\n",
    "            alpha = 0.5 * np.log((1 - error) / (error + 1e-10))\n",
    "            self.models.append(model)\n",
    "            self.alphas.append(alpha)\n",
    "            w *= np.exp(-alpha * y * predictions)\n",
    "            w /= np.sum(w)\n",
    "    \n",
    "    def predict(self, X):\n",
    "        final_pred = np.zeros(X.shape[0])\n",
    "        for alpha, model in zip(self.alphas, self.models):\n",
    "            final_pred += alpha * model.predict(X)\n",
    "        return np.sign(final_pred)\n",
    "\n",
    "# Generate synthetic data for classification\n",
    "X, y = make_classification(n_samples=1000, n_features=20, n_informative=15, random_state=42)\n",
    "y[y == 0] = -1  # Convert to {-1, 1} for AdaBoost\n",
    "\n",
    "# AdaBoostClassifier using scikit-learn\n",
    "ada_model = AdaBoostClassifier(base_estimator=DecisionTreeClassifier(max_depth=1), n_estimators=50, random_state=42)\n",
    "ada_model.fit(X_train, y_train)\n",
    "\n",
    "# Predict and evaluate\n",
    "y_pred = ada_model.predict(X_test)\n",
    "accuracy = accuracy_score(y_test, y_pred)\n",
    "print(f'AdaBoost Classifier Accuracy: {accuracy}')\n",
    "\n",
    "# Experiment with different weak learners\n",
    "base_learners = [DecisionTreeClassifier(max_depth=1), DecisionTreeClassifier(max_depth=2), DecisionTreeClassifier(max_depth=3)]\n",
    "for learner in base_learners:\n",
    "    ada_model = AdaBoostClassifier(base_estimator=learner, n_estimators=50, random_state=42)\n",
    "    ada_model.fit(X_train, y_train)\n",
    "    y_pred = ada_model.predict(X_test)\n",
    "    accuracy = accuracy_score(y_test, y_pred)\n",
    "    print(f'Base Learner Depth: {learner.max_depth}, Accuracy: {accuracy}')\n"
   ]
  }
 ],
 "metadata": {
  "kernelspec": {
   "display_name": "base",
   "language": "python",
   "name": "python3"
  },
  "language_info": {
   "codemirror_mode": {
    "name": "ipython",
    "version": 3
   },
   "file_extension": ".py",
   "mimetype": "text/x-python",
   "name": "python",
   "nbconvert_exporter": "python",
   "pygments_lexer": "ipython3",
   "version": "3.9.12"
  }
 },
 "nbformat": 4,
 "nbformat_minor": 5
}
