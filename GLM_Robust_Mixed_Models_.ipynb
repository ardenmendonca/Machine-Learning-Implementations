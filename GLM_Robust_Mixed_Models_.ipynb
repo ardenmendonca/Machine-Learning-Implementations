{
 "cells": [
  {
   "cell_type": "markdown",
   "id": "61571b12",
   "metadata": {},
   "source": [
    "# Generalized Linear Models (GLM)\n",
    "\n",
    "## Task\n",
    "Fit and interpret GLMs (Poisson regression for count data).\n",
    "\n",
    "## Objective\n",
    "Understand how GLMs can extend linear models to distributions other than the normal distribution.\n",
    "\n",
    "## Implementation\n",
    "We will fit a Poisson regression model to simulated count data to demonstrate the GLM in action.\n"
   ]
  },
  {
   "cell_type": "code",
   "execution_count": 1,
   "id": "23d5891a",
   "metadata": {},
   "outputs": [
    {
     "name": "stdout",
     "output_type": "stream",
     "text": [
      "                 Generalized Linear Model Regression Results                  \n",
      "==============================================================================\n",
      "Dep. Variable:                      y   No. Observations:                  100\n",
      "Model:                            GLM   Df Residuals:                       98\n",
      "Model Family:                 Poisson   Df Model:                            1\n",
      "Link Function:                    Log   Scale:                          1.0000\n",
      "Method:                          IRLS   Log-Likelihood:                -172.26\n",
      "Date:                Tue, 22 Oct 2024   Deviance:                       128.93\n",
      "Time:                        01:49:07   Pearson chi2:                     110.\n",
      "No. Iterations:                     4   Pseudo R-squ. (CS):           0.007226\n",
      "Covariance Type:            nonrobust                                         \n",
      "==============================================================================\n",
      "                 coef    std err          z      P>|z|      [0.025      0.975]\n",
      "------------------------------------------------------------------------------\n",
      "Intercept      0.6523      0.072      9.002      0.000       0.510       0.794\n",
      "x              0.0684      0.081      0.850      0.395      -0.089       0.226\n",
      "==============================================================================\n"
     ]
    }
   ],
   "source": [
    "\n",
    "import numpy as np\n",
    "import pandas as pd\n",
    "import statsmodels.api as sm\n",
    "import statsmodels.formula.api as smf\n",
    "\n",
    "# Generate synthetic count data for Poisson regression\n",
    "np.random.seed(42)\n",
    "data = pd.DataFrame({\n",
    "    'x': np.random.normal(size=100),\n",
    "    'y': np.random.poisson(lam=2, size=100)\n",
    "})\n",
    "\n",
    "# Fit Poisson regression model\n",
    "poisson_model = smf.glm('y ~ x', data=data, family=sm.families.Poisson()).fit()\n",
    "print(poisson_model.summary())\n"
   ]
  },
  {
   "cell_type": "markdown",
   "id": "e0efcc09",
   "metadata": {},
   "source": [
    "## Robust Regression\n",
    "\n",
    "## Task\n",
    "Apply robust regression techniques to datasets with outliers using methods like RANSAC and Theil-Sen estimators.\n",
    "\n",
    "## Objective\n",
    "Learn methods that are less sensitive to outliers, crucial for datasets that contain noisy or corrupted observations.\n",
    "\n",
    "## Implementation\n",
    "We will apply the RANSAC method to handle a dataset with artificially added outliers.\n"
   ]
  },
  {
   "cell_type": "code",
   "execution_count": 2,
   "id": "1e9b747d",
   "metadata": {},
   "outputs": [
    {
     "data": {
      "image/png": "[encoded data removed]",
      "text/plain": [
       "<Figure size 432x288 with 1 Axes>"
      ]
     },
     "metadata": {
      "needs_background": "light"
     },
     "output_type": "display_data"
    }
   ],
   "source": [
    "\n",
    "from sklearn.linear_model import RANSACRegressor\n",
    "import matplotlib.pyplot as plt\n",
    "\n",
    "# Generate synthetic data with outliers\n",
    "np.random.seed(42)\n",
    "X = np.linspace(0, 10, 100)\n",
    "y = 0.5 * X + np.random.normal(size=X.size)\n",
    "y[::10] += 10  # Add some outliers\n",
    "\n",
    "# Apply RANSAC for robust regression\n",
    "ransac = RANSACRegressor().fit(X.reshape(-1, 1), y)\n",
    "\n",
    "# Plot the data and the RANSAC fit\n",
    "plt.scatter(X, y, color='grey', label='Data with outliers')\n",
    "plt.plot(X, ransac.predict(X.reshape(-1, 1)), color='red', label='RANSAC fit')\n",
    "plt.legend()\n",
    "plt.title('Robust Regression with RANSAC')\n",
    "plt.show()\n"
   ]
  },
  {
   "cell_type": "markdown",
   "id": "43118b33",
   "metadata": {},
   "source": [
    "## Mixed Effects Models\n",
    "\n",
    "## Task\n",
    "Analyze data with both fixed and random effects using linear mixed models.\n",
    "\n",
    "## Objective\n",
    "Handle hierarchical or grouped data effectively for complex data structures like nested datasets.\n",
    "\n",
    "## Implementation\n",
    "We will simulate hierarchical data and apply a mixed-effects model to analyze it.\n"
   ]
  },
  {
   "cell_type": "code",
   "execution_count": 3,
   "id": "267d7c83",
   "metadata": {},
   "outputs": [
    {
     "name": "stdout",
     "output_type": "stream",
     "text": [
      "            Mixed Linear Model Regression Results\n",
      "==============================================================\n",
      "Model:               MixedLM   Dependent Variable:   Measure  \n",
      "No. Observations:    100       Method:               REML     \n",
      "No. Groups:          4         Scale:                0.8291   \n",
      "Min. group size:     25        Log-Likelihood:       -139.5852\n",
      "Max. group size:     25        Converged:            Yes      \n",
      "Mean group size:     25.0                                     \n",
      "--------------------------------------------------------------\n",
      "                     Coef.  Std.Err.   z   P>|z| [0.025 0.975]\n",
      "--------------------------------------------------------------\n",
      "Intercept             1.404    0.768 1.828 0.068 -0.102  2.910\n",
      "Group Var             1.996                                   \n",
      "Group x Subgroup Cov -0.038                                   \n",
      "Subgroup Var          0.001                                   \n",
      "==============================================================\n",
      "\n"
     ]
    },
    {
     "name": "stderr",
     "output_type": "stream",
     "text": [
      "c:\\Users\\91771\\anaconda3\\lib\\site-packages\\statsmodels\\base\\model.py:604: ConvergenceWarning: Maximum Likelihood optimization failed to converge. Check mle_retvals\n",
      "  warnings.warn(\"Maximum Likelihood optimization failed to \"\n",
      "c:\\Users\\91771\\anaconda3\\lib\\site-packages\\statsmodels\\regression\\mixed_linear_model.py:2200: ConvergenceWarning: Retrying MixedLM optimization with lbfgs\n",
      "  warnings.warn(\n",
      "c:\\Users\\91771\\anaconda3\\lib\\site-packages\\statsmodels\\regression\\mixed_linear_model.py:2237: ConvergenceWarning: The MLE may be on the boundary of the parameter space.\n",
      "  warnings.warn(msg, ConvergenceWarning)\n"
     ]
    }
   ],
   "source": [
    "\n",
    "import statsmodels.api as sm\n",
    "from statsmodels.regression.mixed_linear_model import MixedLM\n",
    "import numpy as np\n",
    "import pandas as pd\n",
    "\n",
    "# Generate hierarchical data\n",
    "np.random.seed(42)\n",
    "group = np.repeat(np.arange(1, 5), 25)\n",
    "subgroup = np.tile(np.repeat([1, 2], 25), 2)[:100]\n",
    "measure = np.random.normal(0, 1, 100) + np.repeat([0, 1, 2, 3], 25)\n",
    "\n",
    "data = pd.DataFrame({'Group': group, 'Subgroup': subgroup, 'Measure': measure})\n",
    "\n",
    "# Fit mixed-effects model\n",
    "model = MixedLM.from_formula('Measure ~ 1', groups='Group', re_formula='~Subgroup', data=data)\n",
    "result = model.fit()\n",
    "print(result.summary())\n"
   ]
  }
 ],
 "metadata": {
  "kernelspec": {
   "display_name": "base",
   "language": "python",
   "name": "python3"
  },
  "language_info": {
   "codemirror_mode": {
    "name": "ipython",
    "version": 3
   },
   "file_extension": ".py",
   "mimetype": "text/x-python",
   "name": "python",
   "nbconvert_exporter": "python",
   "pygments_lexer": "ipython3",
   "version": "3.9.12"
  }
 },
 "nbformat": 4,
 "nbformat_minor": 5
}
